{
 "cells": [
  {
   "cell_type": "markdown",
   "id": "edf2856a",
   "metadata": {},
   "source": [
    "# Exercise 1"
   ]
  },
  {
   "cell_type": "markdown",
   "id": "e96c006a",
   "metadata": {},
   "source": [
    "#In mathematics, the quadratic equation ax2+bx+c=0 can be solved with the formula x=−b±b2−4ac√2a.\n",
    "\n",
    "Write a function solve_quadratic, that returns both solutions of a generic quadratic \n",
    "as a pair (2-tuple) when the coefficients are given as parameters. It should work like this:\n",
    "\n",
    "print(solve_quadratic(1,-3,2))\n",
    "(2.0,1.0)\n",
    "print(solve_quadratic(1,2,1))\n",
    "(-1.0,-1.0)"
   ]
  },
  {
   "cell_type": "code",
   "execution_count": 1,
   "id": "e36c1b73",
   "metadata": {},
   "outputs": [
    {
     "name": "stdout",
     "output_type": "stream",
     "text": [
      "Solve the quadratic equation: ax**2 + bx + c = 0\n",
      "Please enter a : 1\n",
      "Please enter b : -3\n",
      "Please enter c : 2\n",
      "The solutions are (1+0j) and (2+0j)\n"
     ]
    }
   ],
   "source": [
    "import cmath\n",
    "\n",
    "print('Solve the quadratic equation: ax**2 + bx + c = 0')\n",
    "a = float(input('Please enter a : '))\n",
    "b = float(input('Please enter b : '))\n",
    "c = float(input('Please enter c : '))\n",
    "delta = (b**2) - (4*a*c)\n",
    "solution1 = (-b-cmath.sqrt(delta))/(2*a)\n",
    "solution2 = (-b+cmath.sqrt(delta))/(2*a)\n",
    "\n",
    "print('The solutions are {0} and {1}'.format(solution1,solution2))"
   ]
  },
  {
   "cell_type": "markdown",
   "id": "107c888b",
   "metadata": {},
   "source": [
    "# Exercise 2"
   ]
  },
  {
   "cell_type": "markdown",
   "id": "c1adf1b5",
   "metadata": {},
   "source": [
    "Get a space-separated list of integers from the user, create a tuple of those integers. Then compute and print the result of hash(tuple)."
   ]
  },
  {
   "cell_type": "code",
   "execution_count": 4,
   "id": "5a3adbf0",
   "metadata": {},
   "outputs": [
    {
     "name": "stdout",
     "output_type": "stream",
     "text": [
      "enter a number of values separated by a comma1,2,2,4\n",
      "['1', '2', '2', '4']\n"
     ]
    }
   ],
   "source": [
    "v = input(\"enter a number of values separated by a comma\")\n",
    "userlist= v.split(\",\")\n",
    "print(userlist)"
   ]
  },
  {
   "cell_type": "markdown",
   "id": "19ac9781",
   "metadata": {},
   "source": [
    "# Exercise 3"
   ]
  },
  {
   "cell_type": "markdown",
   "id": "8671f6d0",
   "metadata": {},
   "source": [
    "Take the following two lists. Create a third list by picking a odd-index elements from the first list and even-index elements from the second.\n",
    "\n",
    "listOne = [3, 6, 9, 12, 15, 18, 21]\n",
    "listTwo = [4, 8, 12, 16, 20, 24, 28]"
   ]
  },
  {
   "cell_type": "code",
   "execution_count": 6,
   "id": "d5ea6bae",
   "metadata": {},
   "outputs": [
    {
     "name": "stdout",
     "output_type": "stream",
     "text": [
      "Element at odd-index positions from list one\n",
      "[3, 9, 15, 21]\n",
      "Element at even-index positions from list two\n",
      "[4, 8, 12, 16, 20, 24, 28]\n",
      "Printing Final third list\n",
      "[3, 9, 15, 21, 4, 8, 12, 16, 20, 24, 28]\n"
     ]
    }
   ],
   "source": [
    "# need to do this one again\n",
    "list1=[3, 6, 9, 12, 15, 18, 21]\n",
    "list2=[4, 8, 12, 16, 20, 24, 28]\n",
    "res = list()\n",
    "\n",
    "odd_elements = list1[0::2]\n",
    "print(\"Element at odd-index positions from list one\")\n",
    "print(odd_elements)\n",
    "\n",
    "even_elements = list2[0::1]\n",
    "print(\"Element at even-index positions from list two\")\n",
    "print(even_elements)\n",
    "\n",
    "print(\"Printing Final third list\")\n",
    "res.extend(odd_elements)\n",
    "res.extend(even_elements)\n",
    "print(res)"
   ]
  },
  {
   "cell_type": "markdown",
   "id": "a51204b7",
   "metadata": {},
   "source": [
    "# Exercise 4"
   ]
  },
  {
   "cell_type": "markdown",
   "id": "40ab99c9",
   "metadata": {},
   "source": [
    "Take the following list. Slice it into three equal chunks and reverse each list.\n",
    "sampleList = [11, 45, 8, 23, 14, 12, 78, 45, 89]"
   ]
  },
  {
   "cell_type": "code",
   "execution_count": 7,
   "id": "84aa096e",
   "metadata": {},
   "outputs": [
    {
     "name": "stdout",
     "output_type": "stream",
     "text": [
      "Original list  [11, 45, 8, 23, 14, 12, 78, 45, 89]\n",
      "Chunk  0 [11, 45, 8]\n",
      "After reversing it  [8, 45, 11]\n",
      "Chunk  1 [23, 14, 12]\n",
      "After reversing it  [12, 14, 23]\n",
      "Chunk  2 [78, 45, 89]\n",
      "After reversing it  [89, 45, 78]\n"
     ]
    }
   ],
   "source": [
    "sample_list = [11, 45, 8, 23, 14, 12, 78, 45, 89]\n",
    "print(\"Original list \", sample_list)\n",
    "\n",
    "length = len(sample_list)\n",
    "chunk_size = int(length / 3)\n",
    "start = 0\n",
    "end = chunk_size\n",
    "\n",
    "# run loop 3 times\n",
    "for i in range(3):\n",
    "    # get indexes\n",
    "    indexes = slice(start, end)\n",
    "    \n",
    "    # get chunk\n",
    "    list_chunk = sample_list[indexes]\n",
    "    print(\"Chunk \", i, list_chunk)\n",
    "    \n",
    "    # reverse chunk\n",
    "    print(\"After reversing it \", list(reversed(list_chunk)))\n",
    "\n",
    "    start = end\n",
    "    end += chunk_size"
   ]
  }
 ],
 "metadata": {
  "kernelspec": {
   "display_name": "Python 3 (ipykernel)",
   "language": "python",
   "name": "python3"
  },
  "language_info": {
   "codemirror_mode": {
    "name": "ipython",
    "version": 3
   },
   "file_extension": ".py",
   "mimetype": "text/x-python",
   "name": "python",
   "nbconvert_exporter": "python",
   "pygments_lexer": "ipython3",
   "version": "3.9.12"
  }
 },
 "nbformat": 4,
 "nbformat_minor": 5
}
